{
 "cells": [
  {
   "cell_type": "code",
   "execution_count": 28,
   "metadata": {
    "scrolled": true
   },
   "outputs": [],
   "source": [
    "import pptk\n",
    "import numpy as np"
   ]
  },
  {
   "cell_type": "code",
   "execution_count": 29,
   "metadata": {},
   "outputs": [
    {
     "name": "stdout",
     "output_type": "stream",
     "text": [
      "Requirement already satisfied: pptk in /home/bryan/anaconda3/envs/pptk/lib/python3.7/site-packages (0.1.0)\r\n",
      "Requirement already satisfied: numpy in /home/bryan/anaconda3/envs/pptk/lib/python3.7/site-packages (from pptk) (1.21.6)\r\n"
     ]
    }
   ],
   "source": [
    "!pip install pptk"
   ]
  },
  {
   "cell_type": "code",
   "execution_count": 30,
   "metadata": {},
   "outputs": [],
   "source": [
    "# load point cloud  \n",
    "# points = np.load(r\"D:\\484_final_project\\processed_point_cloud\\slam05_mapping_global.npy\")\n",
    "data = np.load(\"/home/bryan/pointcloud_data/airport_q2/6.npy\")"
   ]
  },
  {
   "cell_type": "code",
   "execution_count": 33,
   "metadata": {},
   "outputs": [
    {
     "data": {
      "text/plain": [
       "array([([1351.4095  , 1161.765   ,   42.687508], 43, (-1, -1, -1)),\n",
       "       ([1348.2501  , 1159.3365  ,   46.585983], 13, (-1, -1, -1)),\n",
       "       ([1351.3528  , 1161.7274  ,   42.87911 ], 24, (-1, -1, -1)), ...,\n",
       "       ([1350.6553  , 1161.503   ,   49.42001 ], 18, (-1, -1, -1)),\n",
       "       ([1348.9381  , 1159.952   ,   46.16408 ], 24, (-1, -1, -1)),\n",
       "       ([1350.6993  , 1161.5513  ,   49.66582 ], 26, (-1, -1, -1))],\n",
       "      dtype=[('xyz', '<f4', (3,)), ('intensity', 'u1'), ('label', [('code', '<i4'), ('color', '<i4'), ('type', '<i4')])])"
      ]
     },
     "execution_count": 33,
     "metadata": {},
     "output_type": "execute_result"
    }
   ],
   "source": [
    "data"
   ]
  },
  {
   "cell_type": "code",
   "execution_count": 31,
   "metadata": {},
   "outputs": [],
   "source": [
    "coordinates = np.array([item[0] for item in data])"
   ]
  },
  {
   "cell_type": "code",
   "execution_count": 35,
   "metadata": {},
   "outputs": [],
   "source": [
    "intensity = np.array([item[1] for item in data])"
   ]
  },
  {
   "cell_type": "code",
   "execution_count": 39,
   "metadata": {},
   "outputs": [],
   "source": [
    "color = np.array([item[2][1] for item in data])"
   ]
  },
  {
   "cell_type": "code",
   "execution_count": 41,
   "metadata": {},
   "outputs": [],
   "source": [
    "line_type = np.array([item[2][2] for item in data])"
   ]
  },
  {
   "cell_type": "code",
   "execution_count": 37,
   "metadata": {},
   "outputs": [],
   "source": [
    "viewer = pptk.viewer(coordinates)"
   ]
  },
  {
   "cell_type": "code",
   "execution_count": 41,
   "metadata": {},
   "outputs": [],
   "source": [
    "u.set(point_size = 0.001)"
   ]
  },
  {
   "cell_type": "code",
   "execution_count": 42,
   "metadata": {},
   "outputs": [],
   "source": [
    "viewer.attributes(intensity,color,line_type)"
   ]
  }
 ],
 "metadata": {
  "kernelspec": {
   "display_name": "Python 3 (ipykernel)",
   "language": "python",
   "name": "python3"
  },
  "language_info": {
   "codemirror_mode": {
    "name": "ipython",
    "version": 3
   },
   "file_extension": ".py",
   "mimetype": "text/x-python",
   "name": "python",
   "nbconvert_exporter": "python",
   "pygments_lexer": "ipython3",
   "version": "3.7.16"
  }
 },
 "nbformat": 4,
 "nbformat_minor": 2
}
