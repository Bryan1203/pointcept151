{
 "cells": [
  {
   "cell_type": "code",
   "execution_count": 13,
   "metadata": {
    "scrolled": true
   },
   "outputs": [],
   "source": [
    "import pptk\n",
    "import numpy as np\n",
    "import glob\n",
    "import os"
   ]
  },
  {
   "cell_type": "code",
   "execution_count": null,
   "metadata": {},
   "outputs": [
    {
     "name": "stdout",
     "output_type": "stream",
     "text": [
      "Found existing installation: pptk 0.1.0\n",
      "Uninstalling pptk-0.1.0:\n",
      "  Would remove:\n",
      "    /home/bryan/anaconda3/envs/pptk/lib/python3.7/site-packages/pptk-0.1.0.dist-info/*\n",
      "    /home/bryan/anaconda3/envs/pptk/lib/python3.7/site-packages/pptk/*\n",
      "Proceed (Y/n)? "
     ]
    }
   ],
   "source": [
    "!pip uninstall pptk"
   ]
  },
  {
   "cell_type": "code",
   "execution_count": 7,
   "metadata": {},
   "outputs": [
    {
     "name": "stdout",
     "output_type": "stream",
     "text": [
      "Found 8134 .npy files:\n"
     ]
    }
   ],
   "source": [
    "# Set your folder path\n",
    "folder_path = \"/home/bryan/pointcloud_data/hsinchu_q2\" # Change this to your actual folder path\n",
    "\n",
    "# Get all .npy files and sort them for consistent ordering\n",
    "npy_files = sorted(glob.glob(os.path.join(folder_path, \"*.npy\")))\n",
    "print(f\"Found {len(npy_files)} .npy files:\")"
   ]
  },
  {
   "cell_type": "code",
   "execution_count": 14,
   "metadata": {},
   "outputs": [],
   "source": [
    "pose = np.load(\"/home/bryan/pointcloud_data/airport_q2_poses.npy\")"
   ]
  },
  {
   "cell_type": "code",
   "execution_count": 17,
   "metadata": {},
   "outputs": [
    {
     "data": {
      "text/plain": [
       "array([(    0, [[-0.63437259, -0.77086519, -0.05777782], [ 0.77234913, -0.6351735 , -0.00560734], [-0.03237644, -0.04818179,  0.99831372]], [1357.497049  , 1166.80624905,   43.86530904]),\n",
       "       (    6, [[-0.63454225, -0.77076502, -0.05724867], [ 0.77224678, -0.63529102, -0.00634278], [-0.03148077, -0.04823487,  0.9983398 ]], [1357.48124261, 1166.76413416,   43.85610926]),\n",
       "       (  257, [[-0.63747002, -0.76831651, -0.0576343 ], [ 0.76973911, -0.63834567, -0.00406171], [-0.03366993, -0.04695259,  0.9983295 ]], [1357.41067858, 1166.70935634,   43.87263415]),\n",
       "       ...,\n",
       "       (10707, [[-0.74046583,  0.67205242,  0.00747672], [-0.67209268, -0.74039648, -0.01022164], [-0.00133374, -0.01259382,  0.99991981]], [1235.14457718, 1349.2715822 ,   40.66364486]),\n",
       "       (10708, [[-0.74567874,  0.66628491,  0.00525668], [-0.66629445, -0.74559725, -0.01168118], [-0.00386363, -0.0122129 ,  0.99991796]], [1235.95522476, 1348.36298029,   40.68353726]),\n",
       "       (10709, [[-0.74838681,  0.66324636,  0.00463211], [-0.66324517, -0.74829843, -0.0124619 ], [-0.00479911, -0.01239855,  0.99991162]], [1236.77465174, 1347.43910125,   40.6989751 ])],\n",
       "      dtype=[('index', '<i8'), ('R', '<f8', (3, 3)), ('t', '<f8', (3,))])"
      ]
     },
     "execution_count": 17,
     "metadata": {},
     "output_type": "execute_result"
    }
   ],
   "source": [
    "pose"
   ]
  },
  {
   "cell_type": "code",
   "execution_count": 8,
   "metadata": {},
   "outputs": [],
   "source": [
    "test = np.load('/home/bryan/pointcloud_data/hsinchu_q2/10532.npy')"
   ]
  },
  {
   "cell_type": "code",
   "execution_count": 11,
   "metadata": {},
   "outputs": [
    {
     "data": {
      "text/plain": [
       "(139008,)"
      ]
     },
     "execution_count": 11,
     "metadata": {},
     "output_type": "execute_result"
    }
   ],
   "source": [
    "test.shape"
   ]
  },
  {
   "cell_type": "code",
   "execution_count": 35,
   "metadata": {},
   "outputs": [],
   "source": [
    "n = 0\n",
    "m = 200\n",
    "selected_files = npy_files[n:m]\n",
    "arrays = [np.load(file) for file in selected_files]\n",
    "selected_data = np.concatenate(arrays, axis=0)\n",
    "data = selected_data\n",
    "coordinates = np.array([item[0] for item in data])\n",
    "intensity = np.array([item[1] for item in data])\n",
    "color = np.array([item[2][1] for item in data])\n",
    "line_type = np.array([item[2][2] for item in data])"
   ]
  },
  {
   "cell_type": "code",
   "execution_count": 36,
   "metadata": {},
   "outputs": [
    {
     "data": {
      "text/plain": [
       "(array([-1,  2,  3,  4], dtype=int32),\n",
       " array([27315505,    95418,   144580,    99793]))"
      ]
     },
     "execution_count": 36,
     "metadata": {},
     "output_type": "execute_result"
    }
   ],
   "source": [
    "np.unique(line_type,return_counts=True)"
   ]
  },
  {
   "cell_type": "code",
   "execution_count": 37,
   "metadata": {},
   "outputs": [
    {
     "data": {
      "text/plain": [
       "(array([-1,  4,  5,  6], dtype=int32),\n",
       " array([27315505,    58963,   211569,    69259]))"
      ]
     },
     "execution_count": 37,
     "metadata": {},
     "output_type": "execute_result"
    }
   ],
   "source": [
    "np.unique(color,return_counts=True)\n"
   ]
  },
  {
   "cell_type": "code",
   "execution_count": 12,
   "metadata": {},
   "outputs": [],
   "source": [
    "viewer = pptk.viewer(test['xyz'])"
   ]
  },
  {
   "cell_type": "code",
   "execution_count": null,
   "metadata": {},
   "outputs": [],
   "source": [
    "viewer = pptk.viewer(coordinates)\n",
    "viewer.attributes(intensity,color,color_array[line_type])\n",
    "viewer.set(point_size = 0.001)"
   ]
  },
  {
   "cell_type": "code",
   "execution_count": 31,
   "metadata": {},
   "outputs": [],
   "source": [
    "viewer.attributes(intensity,color,color_array[line_type])"
   ]
  },
  {
   "cell_type": "code",
   "execution_count": 32,
   "metadata": {},
   "outputs": [],
   "source": [
    "viewer.color_map('jet', scale=[0, 50])"
   ]
  },
  {
   "cell_type": "code",
   "execution_count": 33,
   "metadata": {},
   "outputs": [],
   "source": [
    "viewer.color_map('jet', scale=[-1, 6])"
   ]
  },
  {
   "cell_type": "code",
   "execution_count": 27,
   "metadata": {},
   "outputs": [
    {
     "data": {
      "text/plain": [
       "array([[0.5, 0.5, 1. ],\n",
       "       [0.5, 0.5, 1. ],\n",
       "       [0.5, 0.5, 1. ],\n",
       "       ...,\n",
       "       [0.5, 0.5, 1. ],\n",
       "       [0.5, 0.5, 1. ],\n",
       "       [0.5, 0.5, 1. ]])"
      ]
     },
     "execution_count": 27,
     "metadata": {},
     "output_type": "execute_result"
    }
   ],
   "source": [
    "color_array[line_type]"
   ]
  },
  {
   "cell_type": "code",
   "execution_count": null,
   "metadata": {},
   "outputs": [],
   "source": [
    "color_mapping = {\n",
    "    1: [0, 0, 1],        # none -> blue\n",
    "    2: [1, 1, 1],        # solid -> white\n",
    "    3: [0.5, 0.5, 0.5],  # broken -> grey\n",
    "    4: [1, 1, 0],        # solid solid -> yellow\n",
    "    5: [1, 0.5, 0],      # solid broken -> orange\n",
    "    6: [1, 0.5, 0],      # broken solid -> orange\n",
    "    7: [0.5, 0.5, 1],    # broken broken -> light blue\n",
    "    8: [0.5, 0.5, 1],    # botts dots -> light blue\n",
    "    9: [0.5, 0.5, 1],    # grass -> light blue\n",
    "    10: [0.5, 0.5, 1],   # curb -> light blue\n",
    "    11: [0.5, 0.5, 1],   # custom -> light blue\n",
    "    12: [0.5, 0.5, 1]    # edge -> light blue\n",
    "}\n",
    "max_key = max(color_mapping.keys())\n",
    "color_array = np.zeros((max_key + 1, 3))\n",
    "for k, v in color_mapping.items():\n",
    "    color_array[k] = v\n"
   ]
  }
 ],
 "metadata": {
  "kernelspec": {
   "display_name": "pptk",
   "language": "python",
   "name": "python3"
  },
  "language_info": {
   "codemirror_mode": {
    "name": "ipython",
    "version": 3
   },
   "file_extension": ".py",
   "mimetype": "text/x-python",
   "name": "python",
   "nbconvert_exporter": "python",
   "pygments_lexer": "ipython3",
   "version": "3.7.12"
  }
 },
 "nbformat": 4,
 "nbformat_minor": 4
}
